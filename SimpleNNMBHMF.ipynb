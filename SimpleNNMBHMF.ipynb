{
 "cells": [
  {
   "cell_type": "code",
   "execution_count": 1,
   "metadata": {},
   "outputs": [
    {
     "name": "stdout",
     "output_type": "stream",
     "text": [
      "hi\n"
     ]
    }
   ],
   "source": [
    "print(\"hi\")"
   ]
  },
  {
   "cell_type": "code",
   "execution_count": null,
   "metadata": {},
   "outputs": [],
   "source": [
    "import numpy as np\n",
    "import h5py\n",
    "import matplotlib.pyplot as plt\n",
    "\n",
    "plt.rcParams['font.family'] = 'DeJavu Serif'\n",
    "plt.rcParams['font.serif'] = ['Times New Roman']\n",
    "plt.rcParams['font.size'] = 14\n",
    "\n",
    "plt.rcParams['mathtext.rm'] = 'DeJavu Serif'\n",
    "plt.rcParams['mathtext.it'] = 'DeJavu Serif:italic'\n",
    "plt.rcParams['mathtext.bf'] = 'DeJavu Serif:bold'\n",
    "\n",
    "Mbh_std = 1.675002\n",
    "Mbh_mean = 0.483238518\n",
    "\n",
    "simpathroot = '/ocean/projects/phy240022p/bwangc/MassGraphNet/SimData'\n",
    "mass_sim = np.loadtxt('/ocean/projects/phy240022p/bwangc/MassGraphNet/data/sobol_sequence_WDM_real_values.txt')\n",
    "\n",
    "\n",
    "Mbhs = []\n",
    "\n",
    "bins = [-1,0,3,3.25,3.5,3.75, 4, 4.25,4.5,4.75,5,5.25,5.5,5.75,6,6.25]\n",
    "\n",
    "data = []\n",
    "\n",
    "for i in range(0,1024):\n",
    "    # print('reading simulation', i, flush = True)\n",
    "    fin = '%s/WDM_%d/fof_subhalo_tab_090.hdf5'%(simpathroot,i)\n",
    "\n",
    "    f = h5py.File(fin, 'r')\n",
    "\n",
    "    header = f['Header']\n",
    "    boxsize = header.attrs[u'BoxSize']\n",
    "\n",
    "    Mbh  = f['/Subhalo/SubhaloBHMass'][:]*1e10 #black hole \n",
    "\n",
    "    f.close()\n",
    "\n",
    "    Mbh = np.log10(1.+Mbh)\n",
    "    \n",
    "    Mbh = (Mbh - Mbh_mean)/Mbh_std\n",
    "    \n",
    "    mwdm = mass_sim[i, -1]\n",
    "    \n",
    "    OmegaM = mass_sim[i, 0]\n",
    "    \n",
    "    Mbhs.append(Mbh)\n",
    "    \n",
    "    Mbh_lower = Mbh[Mbh < 0]\n",
    "    Mbh_upper = Mbh[Mbh >= 0]\n",
    "    \n",
    "    input_counts = np.histogram(Mbh, bins = bins)[0]\n",
    "    \n",
    "    # combine the the counts, OmegaM, and mwdm\n",
    "    data.append(np.hstack([Mbh_lower.sum(),Mbh_upper.sum(),mwdm]))\n",
    "    # data.append(np.hstack([input_counts, mwdm]))\n",
    "    # data.append(np.hstack([Mbh.mean(), Mbh.std(), OmegaM, mwdm]))\n",
    "    \n",
    "    \n",
    "    # data.append(np.hstack([Mbh.mean(), Mbh.std(), OmegaM, mwdm]))\n",
    "    \n",
    "    \n",
    "Mbhs = [item for sublist in Mbhs for item in sublist]\n",
    "Mbhs = np.array(Mbhs)\n",
    "data = np.array(data)"
   ]
  },
  {
   "cell_type": "code",
   "execution_count": 3,
   "metadata": {},
   "outputs": [
    {
     "data": {
      "text/plain": [
       "array([ 0.10320763, -0.0202509 , -0.12302827, ..., -0.073794  ,\n",
       "       -0.08206402,  0.09511816])"
      ]
     },
     "execution_count": 3,
     "metadata": {},
     "output_type": "execute_result"
    }
   ],
   "source": [
    "data[:,0]"
   ]
  },
  {
   "cell_type": "code",
   "execution_count": 17,
   "metadata": {},
   "outputs": [],
   "source": [
    "from torch.utils.data import TensorDataset, DataLoader, random_split\n",
    "import torch\n",
    "\n",
    "X_tensor = torch.tensor(data[:, :-1], dtype=torch.float32)\n",
    "y_tensor = torch.tensor(data[:, -1], dtype=torch.float32)\n",
    "\n",
    "# normalize X_tensor\n",
    "X_mean = X_tensor.mean(dim=0)\n",
    "X_std = X_tensor.std(dim=0)\n",
    "X_tensor = (X_tensor - X_mean) / X_std\n",
    "\n",
    "# replace nan with 0\n",
    "X_tensor = torch.nan_to_num(X_tensor)\n",
    "\n",
    "dataset = TensorDataset(X_tensor, y_tensor)\n",
    "\n",
    "train_size = int(0.7 * len(dataset))\n",
    "valid_size = int(0.15 * len(dataset))\n",
    "test_size = len(dataset) - train_size - valid_size\n",
    "\n",
    "batch_size = 16\n",
    "\n",
    "train_dataset, valid_dataset, test_dataset = random_split(dataset, [train_size, valid_size, test_size], generator=torch.Generator().manual_seed(100))\n",
    "\n",
    "train_loader = DataLoader(dataset=train_dataset, batch_size=batch_size, shuffle=True)\n",
    "valid_loader = DataLoader(dataset=valid_dataset, batch_size=batch_size, shuffle=False)\n",
    "test_loader = DataLoader(dataset=test_dataset, batch_size=batch_size, shuffle=False)"
   ]
  },
  {
   "cell_type": "code",
   "execution_count": 18,
   "metadata": {},
   "outputs": [
    {
     "data": {
      "text/plain": [
       "(tensor([-1.2027, -1.1750, -1.4836]), tensor(0.5180))"
      ]
     },
     "execution_count": 18,
     "metadata": {},
     "output_type": "execute_result"
    }
   ],
   "source": [
    "train_dataset.dataset[10]"
   ]
  },
  {
   "cell_type": "code",
   "execution_count": 19,
   "metadata": {},
   "outputs": [],
   "source": [
    "import torch\n",
    "import torch.nn as nn\n",
    "import torch.nn.functional as F\n",
    "\n",
    "class NN_4_layers(nn.Module):\n",
    "    def __init__(self, input_size=16):\n",
    "        super(NN_4_layers, self).__init__()\n",
    "        self.fc1 = nn.Linear(input_size, 64)\n",
    "        self.fc2 = nn.Linear(64, 64)\n",
    "        self.fc3 = nn.Linear(64, 64)\n",
    "        self.fc4 = nn.Linear(64, 1)\n",
    "        \n",
    "    def forward(self, x):\n",
    "        x = F.relu(self.fc1(x))\n",
    "        x = F.relu(self.fc2(x))\n",
    "        x = F.relu(self.fc3(x))\n",
    "        x = self.fc4(x)\n",
    "        \n",
    "        return x\n",
    "    \n",
    "model = NN_4_layers(input_size=train_loader.dataset[0][0].shape[0])"
   ]
  },
  {
   "cell_type": "code",
   "execution_count": 7,
   "metadata": {},
   "outputs": [
    {
     "data": {
      "text/plain": [
       "2"
      ]
     },
     "execution_count": 7,
     "metadata": {},
     "output_type": "execute_result"
    }
   ],
   "source": [
    "train_loader.dataset[0][0].shape[0]"
   ]
  },
  {
   "cell_type": "code",
   "execution_count": 20,
   "metadata": {},
   "outputs": [],
   "source": [
    "import torch.optim as optim\n",
    "\n",
    "# Hyperparameters\n",
    "learning_rate = 0.001\n",
    "epochs = 50\n",
    "\n",
    "# Loss function and optimizer\n",
    "criterion = nn.MSELoss()\n",
    "optimizer = optim.Adam(model.parameters(), lr=learning_rate)"
   ]
  },
  {
   "cell_type": "code",
   "execution_count": 21,
   "metadata": {},
   "outputs": [],
   "source": [
    "best_model_state_dict = None\n",
    "minimum_valid_loss = float('inf')"
   ]
  },
  {
   "cell_type": "code",
   "execution_count": 25,
   "metadata": {},
   "outputs": [
    {
     "name": "stdout",
     "output_type": "stream",
     "text": [
      "Epoch 1/50\n",
      "Training Loss: 0.0053\n",
      "Validation Loss: 0.0040\n",
      "Epoch 2/50\n",
      "Training Loss: 0.0059\n",
      "Validation Loss: 0.0045\n",
      "Epoch 3/50\n",
      "Training Loss: 0.0053\n",
      "Validation Loss: 0.0040\n",
      "Epoch 4/50\n",
      "Training Loss: 0.0052\n",
      "Validation Loss: 0.0046\n",
      "Epoch 5/50\n",
      "Training Loss: 0.0054\n",
      "Validation Loss: 0.0041\n",
      "Epoch 6/50\n",
      "Training Loss: 0.0058\n",
      "Validation Loss: 0.0043\n",
      "Epoch 7/50\n",
      "Training Loss: 0.0056\n",
      "Validation Loss: 0.0045\n",
      "Epoch 8/50\n",
      "Training Loss: 0.0052\n",
      "Validation Loss: 0.0043\n",
      "Epoch 9/50\n",
      "Training Loss: 0.0053\n",
      "Validation Loss: 0.0051\n",
      "Epoch 10/50\n",
      "Training Loss: 0.0051\n",
      "Validation Loss: 0.0044\n",
      "Epoch 11/50\n",
      "Training Loss: 0.0052\n",
      "Validation Loss: 0.0047\n",
      "Epoch 12/50\n",
      "Training Loss: 0.0055\n",
      "Validation Loss: 0.0043\n",
      "Epoch 13/50\n",
      "Training Loss: 0.0052\n",
      "Validation Loss: 0.0041\n",
      "Epoch 14/50\n",
      "Training Loss: 0.0052\n",
      "Validation Loss: 0.0046\n",
      "Epoch 15/50\n",
      "Training Loss: 0.0051\n",
      "Validation Loss: 0.0046\n",
      "Epoch 16/50\n",
      "Training Loss: 0.0051\n",
      "Validation Loss: 0.0041\n",
      "Epoch 17/50\n",
      "Training Loss: 0.0052\n",
      "Validation Loss: 0.0041\n",
      "Epoch 18/50\n",
      "Training Loss: 0.0051\n",
      "Validation Loss: 0.0043\n",
      "Epoch 19/50\n",
      "Training Loss: 0.0053\n",
      "Validation Loss: 0.0042\n",
      "Epoch 20/50\n",
      "Training Loss: 0.0051\n",
      "Validation Loss: 0.0048\n",
      "Epoch 21/50\n",
      "Training Loss: 0.0052\n",
      "Validation Loss: 0.0050\n",
      "Epoch 22/50\n",
      "Training Loss: 0.0053\n",
      "Validation Loss: 0.0042\n",
      "Epoch 23/50\n",
      "Training Loss: 0.0052\n",
      "Validation Loss: 0.0042\n",
      "Epoch 24/50\n",
      "Training Loss: 0.0052\n",
      "Validation Loss: 0.0042\n",
      "Epoch 25/50\n",
      "Training Loss: 0.0054\n",
      "Validation Loss: 0.0055\n",
      "Epoch 26/50\n",
      "Training Loss: 0.0054\n",
      "Validation Loss: 0.0045\n",
      "Epoch 27/50\n",
      "Training Loss: 0.0052\n",
      "Validation Loss: 0.0040\n",
      "Epoch 28/50\n",
      "Training Loss: 0.0054\n",
      "Validation Loss: 0.0048\n",
      "Epoch 29/50\n",
      "Training Loss: 0.0058\n",
      "Validation Loss: 0.0052\n",
      "Epoch 30/50\n",
      "Training Loss: 0.0055\n",
      "Validation Loss: 0.0042\n",
      "Epoch 31/50\n",
      "Training Loss: 0.0052\n",
      "Validation Loss: 0.0041\n",
      "Epoch 32/50\n",
      "Training Loss: 0.0052\n",
      "Validation Loss: 0.0046\n",
      "Epoch 33/50\n",
      "Training Loss: 0.0051\n",
      "Validation Loss: 0.0041\n",
      "Epoch 34/50\n",
      "Training Loss: 0.0050\n",
      "Validation Loss: 0.0043\n",
      "Epoch 35/50\n",
      "Training Loss: 0.0054\n",
      "Validation Loss: 0.0039\n",
      "Epoch 36/50\n",
      "Training Loss: 0.0050\n",
      "Validation Loss: 0.0046\n",
      "Epoch 37/50\n",
      "Training Loss: 0.0050\n",
      "Validation Loss: 0.0040\n",
      "Epoch 38/50\n",
      "Training Loss: 0.0050\n",
      "Validation Loss: 0.0047\n",
      "Epoch 39/50\n",
      "Training Loss: 0.0052\n",
      "Validation Loss: 0.0041\n",
      "Epoch 40/50\n",
      "Training Loss: 0.0050\n",
      "Validation Loss: 0.0040\n",
      "Epoch 41/50\n",
      "Training Loss: 0.0047\n",
      "Validation Loss: 0.0050\n",
      "Epoch 42/50\n",
      "Training Loss: 0.0051\n",
      "Validation Loss: 0.0044\n",
      "Epoch 43/50\n",
      "Training Loss: 0.0051\n",
      "Validation Loss: 0.0043\n",
      "Epoch 44/50\n",
      "Training Loss: 0.0052\n",
      "Validation Loss: 0.0044\n",
      "Epoch 45/50\n",
      "Training Loss: 0.0054\n",
      "Validation Loss: 0.0041\n",
      "Epoch 46/50\n",
      "Training Loss: 0.0050\n",
      "Validation Loss: 0.0042\n",
      "Epoch 47/50\n",
      "Training Loss: 0.0049\n",
      "Validation Loss: 0.0041\n",
      "Epoch 48/50\n",
      "Training Loss: 0.0050\n",
      "Validation Loss: 0.0042\n",
      "Epoch 49/50\n",
      "Training Loss: 0.0054\n",
      "Validation Loss: 0.0041\n",
      "Epoch 50/50\n",
      "Training Loss: 0.0049\n",
      "Validation Loss: 0.0041\n"
     ]
    },
    {
     "data": {
      "text/plain": [
       "<All keys matched successfully>"
      ]
     },
     "execution_count": 25,
     "metadata": {},
     "output_type": "execute_result"
    }
   ],
   "source": [
    "# Training loop\n",
    "def train(model, train_loader):\n",
    "    model.train()\n",
    "    running_loss = 0.0\n",
    "    for inputs, targets in train_loader:\n",
    "        # Move data to the appropriate device if using a GPU\n",
    "        inputs, targets = inputs, targets.unsqueeze(1)  # Make targets shape compatible\n",
    "\n",
    "        # Forward pass\n",
    "        outputs = model(inputs)\n",
    "        loss = criterion(outputs, targets)\n",
    "        \n",
    "        # Backward pass and optimization\n",
    "        optimizer.zero_grad()\n",
    "        loss.backward()\n",
    "        optimizer.step()\n",
    "        \n",
    "        running_loss += loss.item()\n",
    "    \n",
    "    avg_loss = running_loss / len(train_loader)\n",
    "    print(f\"Training Loss: {avg_loss:.4f}\")\n",
    "\n",
    "# Evaluation loop\n",
    "def evaluate(model, valid_loader):\n",
    "    model.eval()\n",
    "    running_loss = 0.0\n",
    "    with torch.no_grad():  # Disable gradient computation for evaluation\n",
    "        for inputs, targets in valid_loader:\n",
    "            inputs, targets = inputs, targets.unsqueeze(1)  # Make targets shape compatible\n",
    "            \n",
    "            outputs = model(inputs)\n",
    "            loss = criterion(outputs, targets)\n",
    "            running_loss += loss.item()\n",
    "    \n",
    "    avg_loss = running_loss / len(valid_loader)\n",
    "    print(f\"Validation Loss: {avg_loss:.4f}\")\n",
    "    \n",
    "    return avg_loss\n",
    "\n",
    "\n",
    "# Run the training and evaluation\n",
    "for epoch in range(epochs):\n",
    "    print(f\"Epoch {epoch + 1}/{epochs}\")\n",
    "    train(model, train_loader)\n",
    "    valid_loss = evaluate(model, valid_loader)\n",
    "    \n",
    "    if valid_loss < minimum_valid_loss:\n",
    "        minimum_valid_loss = valid_loss\n",
    "        best_model_state_dict = model.state_dict()\n",
    "\n",
    "# Load the best model\n",
    "model.load_state_dict(best_model_state_dict)"
   ]
  },
  {
   "cell_type": "code",
   "execution_count": 26,
   "metadata": {},
   "outputs": [
    {
     "data": {
      "text/plain": [
       "0.00394107480533421"
      ]
     },
     "execution_count": 26,
     "metadata": {},
     "output_type": "execute_result"
    }
   ],
   "source": [
    "minimum_valid_loss"
   ]
  },
  {
   "cell_type": "code",
   "execution_count": 27,
   "metadata": {},
   "outputs": [
    {
     "data": {
      "text/plain": [
       "[<matplotlib.lines.Line2D at 0x7f5370f0d050>]"
      ]
     },
     "execution_count": 27,
     "metadata": {},
     "output_type": "execute_result"
    },
    {
     "data": {
      "image/png": "[encoded data removed]",
      "text/plain": [
       "<Figure size 800x600 with 1 Axes>"
      ]
     },
     "metadata": {},
     "output_type": "display_data"
    }
   ],
   "source": [
    "def predict(model, data_loader):\n",
    "    model.eval()  # Set the model to evaluation mode\n",
    "    predictions = []\n",
    "    true_values = []\n",
    "    \n",
    "    with torch.no_grad():  # Disable gradient calculation\n",
    "        for inputs, targets in data_loader:\n",
    "            outputs = model(inputs)\n",
    "            predictions.extend(outputs.numpy())  # Convert predictions to a list\n",
    "            true_values.extend(targets.numpy())            # Convert true values to a list\n",
    "    \n",
    "    return predictions, true_values\n",
    "\n",
    "predictions, true_values = predict(model, test_loader)\n",
    "\n",
    "predictions = np.array(predictions).flatten()\n",
    "true_values = np.array(true_values).flatten()\n",
    "\n",
    "\n",
    "plt.figure(figsize=(8,6))\n",
    "plt.scatter(true_values, predictions, s=2)\n",
    "\n",
    "RSS = np.square(np.subtract(true_values, predictions)).sum()\n",
    "TSS = np.square(np.subtract(true_values, np.mean(true_values))).sum()\n",
    "R_squared = 1 - RSS/TSS\n",
    "RMSE = np.sqrt(np.square(np.subtract(true_values, predictions)).mean())\n",
    "\n",
    "plt.text(0.08, 0.45,\n",
    "        f\"$R^2$:{round(R_squared,3)}\"\n",
    "        \"\\n\"\n",
    "        rf\"RMSE:{round(RMSE,3)}\"\n",
    "        # \"\\n\"\n",
    "        # rf\"$\\epsilon$:{round(MMRE,3)}\"\n",
    "        # \"\\n\"\n",
    "        # rf\"$\\chi^2$:{round(chi_squared,3)}\"\n",
    "        )\n",
    "\n",
    "plt.xlabel(\"True\")\n",
    "plt.ylabel(\"Predicted\")\n",
    "plt.plot(true_values, true_values, color='red', linestyle='--')"
   ]
  },
  {
   "cell_type": "code",
   "execution_count": 15,
   "metadata": {},
   "outputs": [
    {
     "data": {
      "image/png": "[encoded data removed]",
      "text/plain": [
       "<Figure size 640x480 with 1 Axes>"
      ]
     },
     "metadata": {},
     "output_type": "display_data"
    }
   ],
   "source": [
    "plt.hist(Mbhs, bins = 30, density = True, alpha = 0.5, color = 'blue', label = 'WDM')\n",
    "plt.yscale('log')\n"
   ]
  },
  {
   "cell_type": "code",
   "execution_count": 94,
   "metadata": {},
   "outputs": [
    {
     "name": "stderr",
     "output_type": "stream",
     "text": [
      "/jet/home/bwangc/.conda/envs/baseEnv/lib/python3.11/site-packages/numpy/core/fromnumeric.py:3504: RuntimeWarning: Mean of empty slice.\n",
      "  return _methods._mean(a, axis=axis, dtype=dtype,\n",
      "/jet/home/bwangc/.conda/envs/baseEnv/lib/python3.11/site-packages/numpy/core/_methods.py:129: RuntimeWarning: invalid value encountered in scalar divide\n",
      "  ret = ret.dtype.type(ret / rcount)\n",
      "/tmp/ipykernel_91136/4010035515.py:7: RuntimeWarning: invalid value encountered in scalar divide\n",
      "  R_squared = 1 - RSS/TSS\n",
      "/tmp/ipykernel_91136/4010035515.py:8: RuntimeWarning: Mean of empty slice.\n",
      "  RMSE = np.sqrt(np.square(np.subtract(trues, predicts)).mean())\n"
     ]
    },
    {
     "data": {
      "image/png": "[encoded data removed]",
      "text/plain": [
       "<Figure size 640x480 with 1 Axes>"
      ]
     },
     "metadata": {},
     "output_type": "display_data"
    }
   ],
   "source": [
    "    \n",
    "    \n",
    "plt.figure()\n",
    "plt.scatter(trues, predicts, s = 2)\n",
    "plt.plot(trues, trues, 'r')\n",
    "\n",
    "RSS = np.square(np.subtract(trues, predicts)).sum()\n",
    "TSS = np.square(np.subtract(trues, np.mean(trues))).sum()\n",
    "R_squared = 1 - RSS/TSS\n",
    "RMSE = np.sqrt(np.square(np.subtract(trues, predicts)).mean())\n",
    "\n",
    "plt.text(0.08, 0.45,\n",
    "        f\"$R^2$:{round(R_squared,3)}\"\n",
    "        \"\\n\"\n",
    "        rf\"RMSE:{round(RMSE,3)}\"\n",
    "        # \"\\n\"\n",
    "        # rf\"$\\epsilon$:{round(MMRE,3)}\"\n",
    "        # \"\\n\"\n",
    "        # rf\"$\\chi^2$:{round(chi_squared,3)}\"\n",
    "        )\n",
    "\n",
    "plt.xlabel(\"True\")\n",
    "plt.ylabel(\"Predicted\")\n",
    "plt.savefig('results/SRModel.pdf')\n",
    "\n"
   ]
  },
  {
   "cell_type": "code",
   "execution_count": null,
   "metadata": {},
   "outputs": [],
   "source": []
  }
 ],
 "metadata": {
  "kernelspec": {
   "display_name": "baseEnv",
   "language": "python",
   "name": "python3"
  },
  "language_info": {
   "codemirror_mode": {
    "name": "ipython",
    "version": 3
   },
   "file_extension": ".py",
   "mimetype": "text/x-python",
   "name": "python",
   "nbconvert_exporter": "python",
   "pygments_lexer": "ipython3",
   "version": "3.11.9"
  }
 },
 "nbformat": 4,
 "nbformat_minor": 2
}
